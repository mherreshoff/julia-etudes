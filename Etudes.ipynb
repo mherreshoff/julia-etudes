{
 "cells": [
  {
   "cell_type": "markdown",
   "id": "d7141cf3-22c4-4e12-a982-352a1b670df8",
   "metadata": {},
   "source": [
    "# Etude 1: Conway's Game of Life"
   ]
  },
  {
   "cell_type": "code",
   "execution_count": 64,
   "id": "7d417d78-accd-447c-8e4f-ed2309ef4854",
   "metadata": {},
   "outputs": [
    {
     "data": {
      "text/plain": [
       "pad (generic function with 1 method)"
      ]
     },
     "execution_count": 64,
     "metadata": {},
     "output_type": "execute_result"
    }
   ],
   "source": [
    "using DSP\n",
    "\n",
    "function conway_iter(m)\n",
    "    nbr = conv(m, [1 1 1; 1 10 1; 1 1 1])\n",
    "    nbr = nbr[2:end-1,2:end-1] # Crop edges\n",
    "    return (nbr .== 3) .| (nbr .== 12) .| (nbr .== 13)\n",
    "end\n",
    "\n",
    "function hpad(m, n)\n",
    "    rows, cols = size(m)\n",
    "    return [zeros(eltype(m), rows, n)  m  zeros(eltype(m), rows, n)]\n",
    "end\n",
    "function vpad(m, n)\n",
    "    rows, cols = size(m)\n",
    "    return [zeros(eltype(m), n, cols); m;  zeros(eltype(m), n, cols)]\n",
    "end\n",
    "function pad(m, n)\n",
    "    return hpad(vpad(m, n), n)\n",
    "end"
   ]
  },
  {
   "cell_type": "code",
   "execution_count": null,
   "id": "939f1e2e-583f-4657-9b9d-c78f7135896c",
   "metadata": {},
   "outputs": [],
   "source": [
    "using Animations\n",
    "\n",
    "scene = pad([0 1 0; 1 1 1; 1 0 0], 10)\n",
    "@gif for i in 1:30\n",
    "    scene = conway_iter(scene)\n",
    "    heatmap(scene, yflip=true)\n",
    "end"
   ]
  },
  {
   "cell_type": "markdown",
   "id": "a1394c27-7b6f-4836-b48e-4de057c11865",
   "metadata": {},
   "source": [
    "# Etude 2: Map Coloring"
   ]
  },
  {
   "cell_type": "code",
   "execution_count": 137,
   "id": "40901567-2f6b-46e8-af8e-ac3be2ae82ab",
   "metadata": {},
   "outputs": [
    {
     "data": {
      "text/plain": [
       "color_map (generic function with 1 method)"
      ]
     },
     "execution_count": 137,
     "metadata": {},
     "output_type": "execute_result"
    }
   ],
   "source": [
    "using LinearAlgebra\n",
    "\n",
    "function adjacency_matrix(edges; N=nothing)\n",
    "    N = isnothing(N) ? maximum(edges) : N\n",
    "    m = Matrix(I, N, N)\n",
    "    for k in 1:(size(edges)[1])\n",
    "        a, b = edges[k, :]\n",
    "        m[a,b] = m[b,a] = 1\n",
    "    end\n",
    "    return m\n",
    "end\n",
    "    \n",
    "function color_map(adj, num_colors)\n",
    "    N = size(adj)[1]\n",
    "    @assert size(adj) == (N, N)\n",
    "    scenarios = [fill(0, N)]\n",
    "    onehot = zeros(Int64, (num_colors, N))\n",
    "    while length(scenarios) > 0\n",
    "        cur = pop!(scenarios)\n",
    "        #@show cur\n",
    "        max_color = maximum(cur)\n",
    "        is_empty = cur .== 0\n",
    "        num_empty = sum(is_empty)\n",
    "        if num_empty == 0\n",
    "            return cur\n",
    "        end\n",
    "        \n",
    "        fill!(onehot, 0)\n",
    "        for (i, c) in enumerate(cur)\n",
    "            if c != 0\n",
    "                onehot[c,i] = 1\n",
    "            end\n",
    "        end\n",
    "        allowed = (onehot * adj) .== 0\n",
    "        total_allowed = vec(sum(allowed, dims=1))\n",
    "        k = argmin(total_allowed + (2*num_colors) .* (.~is_empty))\n",
    "        \n",
    "        for c in min(max_color+1, num_colors):-1:1\n",
    "            if allowed[c,k]\n",
    "                v = copy(cur)\n",
    "                v[k] = c\n",
    "                push!(scenarios, v)\n",
    "            end\n",
    "        end\n",
    "    end\n",
    "    return nothing\n",
    "end\n",
    "    \n",
    "    "
   ]
  },
  {
   "cell_type": "code",
   "execution_count": 138,
   "id": "acc72825-8e35-4d8b-b5ea-0fbfd27ae73a",
   "metadata": {},
   "outputs": [],
   "source": [
    "using GeoJSON\n",
    "using GeoInterface\n",
    "us_geo = GeoJSON.read(open(\"us-states.json\", \"r\"));\n",
    "num_states = length(us_geo.features)\n",
    "state_names = [properties(f)[\"name\"] for f in us_geo.features];"
   ]
  },
  {
   "cell_type": "code",
   "execution_count": 139,
   "id": "22b8c49b-2a37-4057-8f3e-5c70dae4d4c3",
   "metadata": {},
   "outputs": [
    {
     "data": {
      "text/plain": [
       "flatten (generic function with 1 method)"
      ]
     },
     "execution_count": 139,
     "metadata": {},
     "output_type": "execute_result"
    }
   ],
   "source": [
    "function flatten(v)\n",
    "    if v isa AbstractArray\n",
    "        return [a for vv in v for a in flatten(vv)]\n",
    "    end\n",
    "    return [v]\n",
    "end"
   ]
  },
  {
   "cell_type": "code",
   "execution_count": 140,
   "id": "a43e24ae-83f9-4d9d-9866-eaabf316cbb4",
   "metadata": {},
   "outputs": [],
   "source": [
    "state_to_point = zeros(num_states, 0)\n",
    "geo_points = zeros(2, 0)\n",
    "for (i, state) in enumerate(us_geo.features)\n",
    "    coords = coordinates(geometry(state))\n",
    "    points = reshape(flatten(coords), (2, :))\n",
    "    n = size(points)[2]\n",
    "    geo_points = [geo_points  points]\n",
    "    m = zeros(Int64, (num_states, n))\n",
    "    m[i,:] .= 1\n",
    "    state_to_point = [state_to_point m]\n",
    "end\n",
    "\n",
    "using Distances\n",
    "dists = pairwise(Euclidean(), geo_points, dims=2)\n",
    "state_adj = (state_to_point * (dists .< .0001) * transpose(state_to_point)) .> 0\n",
    "state_colors = color_map(state_adj, 4);"
   ]
  },
  {
   "cell_type": "code",
   "execution_count": 141,
   "id": "34cc6153-20f1-4357-9b22-49029f45a71e",
   "metadata": {},
   "outputs": [
    {
     "data": {
      "image/png": "[encoded data removed]",
      "text/plain": []
     },
     "execution_count": 141,
     "metadata": {},
     "output_type": "execute_result"
    }
   ],
   "source": [
    "using Luxor, Colors\n",
    "color_names = [\"#9e391a\", \"#c4ac7c\", \"#5e6a58\", \"#354536\"]\n",
    "min_latlon = minimum(geo_points, dims=2)\n",
    "max_latlon = maximum(geo_points, dims=2)\n",
    "latlon_span = max_latlon - min_latlon\n",
    "\n",
    "sz = round.(400 .* latlon_span / minimum(latlon_span))\n",
    "Drawing(sz[1], sz[2])\n",
    "for (i, state) in enumerate(us_geo.features)\n",
    "    setcolor(color_names[state_colors[i]])\n",
    "    geom = geometry(state)\n",
    "    function draw_polygon(coord)\n",
    "        points = hcat(coord[1]...)\n",
    "            # Note: not currently drawing interior cutouts.\n",
    "        points .-= min_latlon\n",
    "        points ./= (max_latlon - min_latlon)\n",
    "        points[2, :] = 1 .- points[2, :] # y flip.\n",
    "        points .*= sz\n",
    "        poly([Luxor.Point(x, y) for (x,y) in eachcol(points)], :fill)\n",
    "    end\n",
    "    if geom isa Polygon\n",
    "        draw_polygon(coordinates(geom))\n",
    "    elseif geom isa MultiPolygon\n",
    "        for poly in coordinates(geom)\n",
    "            draw_polygon(poly)\n",
    "        end\n",
    "    end\n",
    "end\n",
    "\n",
    "finish()\n",
    "preview()"
   ]
  },
  {
   "cell_type": "code",
   "execution_count": null,
   "id": "20bc42f4-fec8-4f24-8338-2ad346572d47",
   "metadata": {},
   "outputs": [],
   "source": []
  }
 ],
 "metadata": {
  "kernelspec": {
   "display_name": "Julia 1.6.1",
   "language": "julia",
   "name": "julia-1.6"
  },
  "language_info": {
   "file_extension": ".jl",
   "mimetype": "application/julia",
   "name": "julia",
   "version": "1.6.1"
  }
 },
 "nbformat": 4,
 "nbformat_minor": 5
}
